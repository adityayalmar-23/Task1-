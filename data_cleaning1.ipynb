{
 "cells": [
  {
   "cell_type": "code",
   "execution_count": 2,
   "id": "db05754e-a9a4-4abf-b2ab-efef11813df0",
   "metadata": {},
   "outputs": [],
   "source": [
    "#import libraries\n",
    "import numpy as np\n",
    "import matplotlib.pyplot as plt\n",
    "import seaborn as sb\n",
    "import pandas as pd"
   ]
  },
  {
   "cell_type": "code",
   "execution_count": 4,
   "id": "a6edade5-5d38-4102-869a-34d42b616159",
   "metadata": {},
   "outputs": [
    {
     "data": {
      "text/html": [
       "<div>\n",
       "<style scoped>\n",
       "    .dataframe tbody tr th:only-of-type {\n",
       "        vertical-align: middle;\n",
       "    }\n",
       "\n",
       "    .dataframe tbody tr th {\n",
       "        vertical-align: top;\n",
       "    }\n",
       "\n",
       "    .dataframe thead th {\n",
       "        text-align: right;\n",
       "    }\n",
       "</style>\n",
       "<table border=\"1\" class=\"dataframe\">\n",
       "  <thead>\n",
       "    <tr style=\"text-align: right;\">\n",
       "      <th></th>\n",
       "      <th>Name</th>\n",
       "      <th>Age</th>\n",
       "      <th>Gender</th>\n",
       "      <th>Email</th>\n",
       "      <th>Join_Date</th>\n",
       "      <th>Salary</th>\n",
       "      <th>Department</th>\n",
       "    </tr>\n",
       "  </thead>\n",
       "  <tbody>\n",
       "    <tr>\n",
       "      <th>0</th>\n",
       "      <td>Alice</td>\n",
       "      <td>NaN</td>\n",
       "      <td>NaN</td>\n",
       "      <td>user0@example.com</td>\n",
       "      <td>2021-05-21</td>\n",
       "      <td>NaN</td>\n",
       "      <td>Admin</td>\n",
       "    </tr>\n",
       "    <tr>\n",
       "      <th>1</th>\n",
       "      <td>Bob</td>\n",
       "      <td>40</td>\n",
       "      <td>M</td>\n",
       "      <td>user1@example.com</td>\n",
       "      <td>NaN</td>\n",
       "      <td>50000</td>\n",
       "      <td>Engineering</td>\n",
       "    </tr>\n",
       "    <tr>\n",
       "      <th>2</th>\n",
       "      <td>Charlie</td>\n",
       "      <td>unknown</td>\n",
       "      <td>Male</td>\n",
       "      <td>user2@example.com</td>\n",
       "      <td>2020/01/01</td>\n",
       "      <td>50000</td>\n",
       "      <td>HR</td>\n",
       "    </tr>\n",
       "    <tr>\n",
       "      <th>3</th>\n",
       "      <td>David</td>\n",
       "      <td>NaN</td>\n",
       "      <td>NaN</td>\n",
       "      <td>user3@example.com</td>\n",
       "      <td>2021-05-21</td>\n",
       "      <td>70000</td>\n",
       "      <td>Admin</td>\n",
       "    </tr>\n",
       "    <tr>\n",
       "      <th>4</th>\n",
       "      <td>Eva</td>\n",
       "      <td>35</td>\n",
       "      <td>Other</td>\n",
       "      <td>user4@example.com</td>\n",
       "      <td>July 4, 2020</td>\n",
       "      <td>70000</td>\n",
       "      <td>Engineering</td>\n",
       "    </tr>\n",
       "    <tr>\n",
       "      <th>...</th>\n",
       "      <td>...</td>\n",
       "      <td>...</td>\n",
       "      <td>...</td>\n",
       "      <td>...</td>\n",
       "      <td>...</td>\n",
       "      <td>...</td>\n",
       "      <td>...</td>\n",
       "    </tr>\n",
       "    <tr>\n",
       "      <th>100</th>\n",
       "      <td>Alice</td>\n",
       "      <td>NaN</td>\n",
       "      <td>NaN</td>\n",
       "      <td>user0@example.com</td>\n",
       "      <td>2021-05-21</td>\n",
       "      <td>NaN</td>\n",
       "      <td>Admin</td>\n",
       "    </tr>\n",
       "    <tr>\n",
       "      <th>101</th>\n",
       "      <td>Bob</td>\n",
       "      <td>40</td>\n",
       "      <td>M</td>\n",
       "      <td>user1@example.com</td>\n",
       "      <td>NaN</td>\n",
       "      <td>50000</td>\n",
       "      <td>Engineering</td>\n",
       "    </tr>\n",
       "    <tr>\n",
       "      <th>102</th>\n",
       "      <td>Charlie</td>\n",
       "      <td>unknown</td>\n",
       "      <td>Male</td>\n",
       "      <td>user2@example.com</td>\n",
       "      <td>2020/01/01</td>\n",
       "      <td>50000</td>\n",
       "      <td>HR</td>\n",
       "    </tr>\n",
       "    <tr>\n",
       "      <th>103</th>\n",
       "      <td>David</td>\n",
       "      <td>NaN</td>\n",
       "      <td>NaN</td>\n",
       "      <td>user3@example.com</td>\n",
       "      <td>2021-05-21</td>\n",
       "      <td>70000</td>\n",
       "      <td>Admin</td>\n",
       "    </tr>\n",
       "    <tr>\n",
       "      <th>104</th>\n",
       "      <td>Eva</td>\n",
       "      <td>35</td>\n",
       "      <td>Other</td>\n",
       "      <td>user4@example.com</td>\n",
       "      <td>July 4, 2020</td>\n",
       "      <td>70000</td>\n",
       "      <td>Engineering</td>\n",
       "    </tr>\n",
       "  </tbody>\n",
       "</table>\n",
       "<p>105 rows × 7 columns</p>\n",
       "</div>"
      ],
      "text/plain": [
       "        Name      Age Gender              Email     Join_Date Salary  \\\n",
       "0      Alice      NaN    NaN  user0@example.com    2021-05-21    NaN   \n",
       "1        Bob       40      M  user1@example.com           NaN  50000   \n",
       "2    Charlie  unknown   Male  user2@example.com    2020/01/01  50000   \n",
       "3      David      NaN    NaN  user3@example.com    2021-05-21  70000   \n",
       "4        Eva       35  Other  user4@example.com  July 4, 2020  70000   \n",
       "..       ...      ...    ...                ...           ...    ...   \n",
       "100    Alice      NaN    NaN  user0@example.com    2021-05-21    NaN   \n",
       "101      Bob       40      M  user1@example.com           NaN  50000   \n",
       "102  Charlie  unknown   Male  user2@example.com    2020/01/01  50000   \n",
       "103    David      NaN    NaN  user3@example.com    2021-05-21  70000   \n",
       "104      Eva       35  Other  user4@example.com  July 4, 2020  70000   \n",
       "\n",
       "      Department  \n",
       "0          Admin  \n",
       "1    Engineering  \n",
       "2             HR  \n",
       "3          Admin  \n",
       "4    Engineering  \n",
       "..           ...  \n",
       "100        Admin  \n",
       "101  Engineering  \n",
       "102           HR  \n",
       "103        Admin  \n",
       "104  Engineering  \n",
       "\n",
       "[105 rows x 7 columns]"
      ]
     },
     "execution_count": 4,
     "metadata": {},
     "output_type": "execute_result"
    }
   ],
   "source": [
    "#importing data\n",
    "ds=pd.read_csv(\"raw_messy_dataset.csv\")\n",
    "ds"
   ]
  },
  {
   "cell_type": "code",
   "execution_count": 6,
   "id": "93ab594c-0de8-4bd5-9d1c-a690b0f2d363",
   "metadata": {},
   "outputs": [
    {
     "name": "stdout",
     "output_type": "stream",
     "text": [
      "<class 'pandas.core.frame.DataFrame'>\n",
      "RangeIndex: 105 entries, 0 to 104\n",
      "Data columns (total 7 columns):\n",
      " #   Column      Non-Null Count  Dtype \n",
      "---  ------      --------------  ----- \n",
      " 0   Name        105 non-null    object\n",
      " 1   Age         72 non-null     object\n",
      " 2   Gender      89 non-null     object\n",
      " 3   Email       95 non-null     object\n",
      " 4   Join_Date   70 non-null     object\n",
      " 5   Salary      78 non-null     object\n",
      " 6   Department  89 non-null     object\n",
      "dtypes: object(7)\n",
      "memory usage: 5.9+ KB\n"
     ]
    }
   ],
   "source": [
    "#checking details\n",
    "ds.info()"
   ]
  },
  {
   "cell_type": "code",
   "execution_count": 7,
   "id": "dbabeab8-088d-47ce-8036-44f540f80bee",
   "metadata": {},
   "outputs": [
    {
     "data": {
      "text/html": [
       "<div>\n",
       "<style scoped>\n",
       "    .dataframe tbody tr th:only-of-type {\n",
       "        vertical-align: middle;\n",
       "    }\n",
       "\n",
       "    .dataframe tbody tr th {\n",
       "        vertical-align: top;\n",
       "    }\n",
       "\n",
       "    .dataframe thead th {\n",
       "        text-align: right;\n",
       "    }\n",
       "</style>\n",
       "<table border=\"1\" class=\"dataframe\">\n",
       "  <thead>\n",
       "    <tr style=\"text-align: right;\">\n",
       "      <th></th>\n",
       "      <th>Name</th>\n",
       "      <th>Age</th>\n",
       "      <th>Gender</th>\n",
       "      <th>Email</th>\n",
       "      <th>Join_Date</th>\n",
       "      <th>Salary</th>\n",
       "      <th>Department</th>\n",
       "    </tr>\n",
       "  </thead>\n",
       "  <tbody>\n",
       "    <tr>\n",
       "      <th>count</th>\n",
       "      <td>105</td>\n",
       "      <td>72</td>\n",
       "      <td>89</td>\n",
       "      <td>95</td>\n",
       "      <td>70</td>\n",
       "      <td>78</td>\n",
       "      <td>89</td>\n",
       "    </tr>\n",
       "    <tr>\n",
       "      <th>unique</th>\n",
       "      <td>10</td>\n",
       "      <td>5</td>\n",
       "      <td>5</td>\n",
       "      <td>90</td>\n",
       "      <td>4</td>\n",
       "      <td>5</td>\n",
       "      <td>5</td>\n",
       "    </tr>\n",
       "    <tr>\n",
       "      <th>top</th>\n",
       "      <td>Alice</td>\n",
       "      <td>40</td>\n",
       "      <td>Male</td>\n",
       "      <td>user0@example.com</td>\n",
       "      <td>2021-05-21</td>\n",
       "      <td>50000</td>\n",
       "      <td>Engineering</td>\n",
       "    </tr>\n",
       "    <tr>\n",
       "      <th>freq</th>\n",
       "      <td>11</td>\n",
       "      <td>22</td>\n",
       "      <td>22</td>\n",
       "      <td>2</td>\n",
       "      <td>26</td>\n",
       "      <td>22</td>\n",
       "      <td>26</td>\n",
       "    </tr>\n",
       "  </tbody>\n",
       "</table>\n",
       "</div>"
      ],
      "text/plain": [
       "         Name Age Gender              Email   Join_Date Salary   Department\n",
       "count     105  72     89                 95          70     78           89\n",
       "unique     10   5      5                 90           4      5            5\n",
       "top     Alice  40   Male  user0@example.com  2021-05-21  50000  Engineering\n",
       "freq       11  22     22                  2          26     22           26"
      ]
     },
     "execution_count": 7,
     "metadata": {},
     "output_type": "execute_result"
    }
   ],
   "source": [
    "ds.describe()"
   ]
  },
  {
   "cell_type": "code",
   "execution_count": 13,
   "id": "d525b17c-cc61-49cc-9e25-a69fde0598f2",
   "metadata": {},
   "outputs": [
    {
     "data": {
      "text/plain": [
       "0"
      ]
     },
     "execution_count": 13,
     "metadata": {},
     "output_type": "execute_result"
    }
   ],
   "source": [
    "#searching for duplicates\n",
    "ds.duplicated().sum()\n"
   ]
  },
  {
   "cell_type": "code",
   "execution_count": 14,
   "id": "bb840b05-2815-4e6c-9af2-140bb45bf9e0",
   "metadata": {},
   "outputs": [],
   "source": [
    "#remove duplicates\n",
    "ds.drop_duplicates(inplace=True)\n",
    "#go to 13 cell"
   ]
  },
  {
   "cell_type": "code",
   "execution_count": 22,
   "id": "ef026acf-1ff9-46f4-8a55-1e7f69f2ef37",
   "metadata": {},
   "outputs": [
    {
     "data": {
      "text/plain": [
       "Index(['Name', 'Age', 'Gender', 'Email', 'Join_Date', 'Salary', 'Department'], dtype='object')"
      ]
     },
     "execution_count": 22,
     "metadata": {},
     "output_type": "execute_result"
    }
   ],
   "source": [
    "#returns column\n",
    "ds.columns"
   ]
  },
  {
   "cell_type": "code",
   "execution_count": 20,
   "id": "fa008130-4fde-47f0-8c99-9a17b87314fa",
   "metadata": {},
   "outputs": [],
   "source": [
    "#heading age or changed type of age to numeric from object\n",
    "ds[\"Age\"]=pd.to_numeric(ds[\"Age\"],errors = 'coerce')"
   ]
  },
  {
   "cell_type": "code",
   "execution_count": 21,
   "id": "8865d7e7-025a-4112-8a88-4b430fe7e38c",
   "metadata": {},
   "outputs": [
    {
     "data": {
      "text/plain": [
       "<bound method DataFrame.info of        Name   Age Gender              Email     Join_Date Salary   Department\n",
       "0     Alice   NaN    NaN  user0@example.com    2021-05-21    NaN        Admin\n",
       "1       Bob  40.0      M  user1@example.com           NaN  50000  Engineering\n",
       "2   Charlie   NaN   Male  user2@example.com    2020/01/01  50000           HR\n",
       "3     David   NaN    NaN  user3@example.com    2021-05-21  70000        Admin\n",
       "4       Eva  35.0  Other  user4@example.com  July 4, 2020  70000  Engineering\n",
       "..      ...   ...    ...                ...           ...    ...          ...\n",
       "95    Frank   NaN   Male                NaN           NaN  50000          NaN\n",
       "96    Grace  40.0   Male                NaN           NaN  70000        Sales\n",
       "97   Hannah   NaN   Male                NaN    2020/01/01  60000          NaN\n",
       "98      Ivy   NaN      F                NaN    2020/01/01  50000          NaN\n",
       "99     Jack   NaN    NaN                NaN  July 4, 2020  60000        Admin\n",
       "\n",
       "[100 rows x 7 columns]>"
      ]
     },
     "execution_count": 21,
     "metadata": {},
     "output_type": "execute_result"
    }
   ],
   "source": [
    "ds.info"
   ]
  },
  {
   "cell_type": "code",
   "execution_count": 24,
   "id": "e0f106cf-274f-473c-ad42-488d90f5359e",
   "metadata": {},
   "outputs": [
    {
     "name": "stderr",
     "output_type": "stream",
     "text": [
      "C:\\Users\\adity\\AppData\\Local\\Temp\\ipykernel_17748\\1489819508.py:4: FutureWarning: A value is trying to be set on a copy of a DataFrame or Series through chained assignment using an inplace method.\n",
      "The behavior will change in pandas 3.0. This inplace method will never work because the intermediate object on which we are setting values always behaves as a copy.\n",
      "\n",
      "For example, when doing 'df[col].method(value, inplace=True)', try using 'df.method({col: value}, inplace=True)' or df[col] = df[col].method(value) instead, to perform the operation inplace on the original object.\n",
      "\n",
      "\n",
      "  ds[\"Age\"].fillna(x,inplace=True)\n"
     ]
    }
   ],
   "source": [
    "#finding median for missing value in column age\n",
    "x=ds[\"Age\"].median()\n",
    "#filling age at empty cell\n",
    "ds[\"Age\"].fillna(x,inplace=True)"
   ]
  },
  {
   "cell_type": "code",
   "execution_count": 26,
   "id": "65526e7a-00ca-40dc-9842-0b22fbe13f0b",
   "metadata": {},
   "outputs": [
    {
     "data": {
      "text/plain": [
       "array([35., 40., 30., 25.])"
      ]
     },
     "execution_count": 26,
     "metadata": {},
     "output_type": "execute_result"
    }
   ],
   "source": [
    "#for checking is there empty\n",
    "ds[\"Age\"].unique()"
   ]
  },
  {
   "cell_type": "code",
   "execution_count": 27,
   "id": "8cb966d3-a442-450c-a502-92ae978a669b",
   "metadata": {},
   "outputs": [
    {
     "data": {
      "text/plain": [
       "array([nan, 'M', 'Male', 'Other', 'Female', 'F'], dtype=object)"
      ]
     },
     "execution_count": 27,
     "metadata": {},
     "output_type": "execute_result"
    }
   ],
   "source": [
    "ds[\"Gender\"].unique()"
   ]
  },
  {
   "cell_type": "code",
   "execution_count": 33,
   "id": "dab547cb-50c7-47c7-b2b2-a5c3317a1690",
   "metadata": {},
   "outputs": [],
   "source": [
    "#standardizing colmn gender for unique values\n",
    "ds[\"Gender\"]=ds[\"Gender\"].replace({\n",
    "    \"M\":\"Male\",\"F\":\"Female\",\"\":\"None\"\n",
    "})"
   ]
  },
  {
   "cell_type": "code",
   "execution_count": 34,
   "id": "7b823f72-215b-4681-924e-66ea282c5fea",
   "metadata": {},
   "outputs": [
    {
     "data": {
      "text/plain": [
       "array([nan, 'Male', 'Other', 'Female'], dtype=object)"
      ]
     },
     "execution_count": 34,
     "metadata": {},
     "output_type": "execute_result"
    }
   ],
   "source": [
    "ds[\"Gender\"].unique()"
   ]
  },
  {
   "cell_type": "code",
   "execution_count": 37,
   "id": "d3ad3b7d-2e98-4a4c-8bae-8f3d15eb9de6",
   "metadata": {},
   "outputs": [],
   "source": [
    "#handling email colums\n",
    "ds[\"Email\"].fillna(\"-\",inplace=True)"
   ]
  },
  {
   "cell_type": "code",
   "execution_count": 39,
   "id": "c2580c8f-38aa-4aac-8eca-7bf8df62275e",
   "metadata": {},
   "outputs": [
    {
     "name": "stdout",
     "output_type": "stream",
     "text": [
      "       Name   Age  Gender               Email     Join_Date   Salary   Department\n",
      "0     Alice  35.0     NaN   user0@example.com    2021-05-21      NaN        Admin\n",
      "1       Bob  40.0    Male   user1@example.com           NaN    50000  Engineering\n",
      "2   Charlie  35.0    Male   user2@example.com    2020/01/01    50000           HR\n",
      "3     David  35.0     NaN   user3@example.com    2021-05-21    70000        Admin\n",
      "4       Eva  35.0   Other   user4@example.com  July 4, 2020    70000  Engineering\n",
      "5     Frank  35.0   Other   user5@example.com           NaN    70000        Admin\n",
      "6     Grace  35.0  Female   user6@example.com  July 4, 2020    80000  Engineering\n",
      "7    Hannah  35.0   Other   user7@example.com    2021-05-21      NaN           HR\n",
      "8       Ivy  30.0  Female   user8@example.com           NaN    50000  Engineering\n",
      "9      Jack  35.0    Male   user9@example.com    2020/01/01    80000  Engineering\n",
      "10    Alice  35.0    Male  user10@example.com    2021-05-21    70000  Engineering\n",
      "11      Bob  35.0    Male  user11@example.com  July 4, 2020    50000        Sales\n",
      "12  Charlie  35.0    Male  user12@example.com    22-06-2022    80000        Sales\n",
      "13    David  35.0   Other  user13@example.com           NaN      NaN        Sales\n",
      "14      Eva  40.0    Male  user14@example.com  July 4, 2020    80000           HR\n",
      "15    Frank  35.0   Other  user15@example.com           NaN      NaN        Admin\n",
      "16    Grace  35.0   Other  user16@example.com    2021-05-21    70000          NaN\n",
      "17   Hannah  35.0    Male  user17@example.com           NaN      NaN  Engineering\n",
      "18      Ivy  30.0    Male  user18@example.com    2021-05-21    50000  Engineering\n",
      "19     Jack  40.0    Male  user19@example.com           NaN    70000           HR\n",
      "20    Alice  35.0    Male  user20@example.com    2021-05-21    50000  Engineering\n",
      "21      Bob  35.0    Male  user21@example.com    22-06-2022  unknown        Sales\n",
      "22  Charlie  30.0  Female  user22@example.com           NaN    60000          NaN\n",
      "23    David  40.0  Female  user23@example.com           NaN      NaN    Marketing\n",
      "24      Eva  35.0    Male  user24@example.com           NaN    60000  Engineering\n",
      "25    Frank  25.0  Female  user25@example.com    22-06-2022    60000        Sales\n",
      "26    Grace  40.0  Female  user26@example.com  July 4, 2020      NaN    Marketing\n",
      "27   Hannah  30.0    Male  user27@example.com    2021-05-21    70000          NaN\n",
      "28      Ivy  35.0  Female  user28@example.com    2020/01/01  unknown    Marketing\n",
      "29     Jack  35.0   Other  user29@example.com    2021-05-21    50000        Sales\n",
      "30    Alice  40.0  Female  user30@example.com    2021-05-21    80000        Admin\n",
      "31      Bob  25.0  Female  user31@example.com  July 4, 2020    50000        Admin\n",
      "32  Charlie  25.0    Male  user32@example.com    2021-05-21    80000    Marketing\n",
      "33    David  35.0    Male  user33@example.com    22-06-2022    50000           HR\n",
      "34      Eva  35.0    Male  user34@example.com    22-06-2022      NaN    Marketing\n",
      "35    Frank  35.0    Male  user35@example.com           NaN  unknown  Engineering\n",
      "36    Grace  30.0  Female  user36@example.com           NaN    80000  Engineering\n",
      "37   Hannah  40.0    Male  user37@example.com    2020/01/01      NaN        Admin\n",
      "38      Ivy  40.0     NaN  user38@example.com    2021-05-21    70000           HR\n",
      "39     Jack  35.0   Other  user39@example.com    2021-05-21    50000        Sales\n",
      "40    Alice  35.0  Female  user40@example.com  July 4, 2020    50000  Engineering\n",
      "41      Bob  35.0    Male  user41@example.com           NaN    80000        Admin\n",
      "42  Charlie  35.0     NaN  user42@example.com    22-06-2022    70000          NaN\n",
      "43    David  35.0  Female  user43@example.com    2020/01/01    70000        Admin\n",
      "44      Eva  35.0  Female  user44@example.com           NaN      NaN  Engineering\n",
      "45    Frank  40.0    Male  user45@example.com    22-06-2022      NaN  Engineering\n",
      "46    Grace  35.0  Female  user46@example.com           NaN      NaN        Admin\n",
      "47   Hannah  40.0   Other  user47@example.com           NaN      NaN        Sales\n",
      "48      Ivy  25.0     NaN  user48@example.com  July 4, 2020      NaN    Marketing\n",
      "49     Jack  35.0  Female  user49@example.com  July 4, 2020      NaN  Engineering\n",
      "50    Alice  35.0    Male  user50@example.com    2021-05-21      NaN        Admin\n",
      "51      Bob  35.0   Other  user51@example.com           NaN  unknown        Admin\n",
      "52  Charlie  35.0  Female  user52@example.com    2020/01/01    70000           HR\n",
      "53    David  35.0     NaN  user53@example.com           NaN      NaN    Marketing\n",
      "54      Eva  25.0  Female  user54@example.com    22-06-2022    70000          NaN\n",
      "55    Frank  35.0    Male  user55@example.com           NaN    70000        Sales\n",
      "56    Grace  30.0  Female  user56@example.com           NaN    60000          NaN\n",
      "57   Hannah  40.0  Female  user57@example.com  July 4, 2020  unknown    Marketing\n",
      "58      Ivy  25.0    Male  user58@example.com    2021-05-21      NaN    Marketing\n",
      "59     Jack  40.0   Other  user59@example.com    2021-05-21    50000    Marketing\n",
      "60    Alice  35.0  Female  user60@example.com           NaN    80000          NaN\n",
      "61      Bob  30.0    Male  user61@example.com  July 4, 2020      NaN    Marketing\n",
      "62  Charlie  30.0    Male  user62@example.com           NaN    50000        Admin\n",
      "63    David  25.0   Other  user63@example.com    2020/01/01  unknown          NaN\n",
      "64      Eva  30.0    Male  user64@example.com  July 4, 2020    80000    Marketing\n",
      "65    Frank  35.0     NaN  user65@example.com           NaN  unknown        Admin\n",
      "66    Grace  30.0   Other  user66@example.com           NaN    70000           HR\n",
      "67   Hannah  40.0   Other  user67@example.com  July 4, 2020    80000    Marketing\n",
      "68      Ivy  40.0  Female  user68@example.com           NaN    70000          NaN\n",
      "69     Jack  35.0   Other  user69@example.com  July 4, 2020    50000  Engineering\n",
      "70    Alice  40.0    Male  user70@example.com    22-06-2022    50000    Marketing\n",
      "71      Bob  35.0   Other  user71@example.com  July 4, 2020    80000  Engineering\n",
      "72  Charlie  40.0  Female  user72@example.com  July 4, 2020    80000        Admin\n",
      "73    David  35.0  Female  user73@example.com           NaN      NaN           HR\n",
      "74      Eva  35.0     NaN  user74@example.com           NaN  unknown        Sales\n",
      "75    Frank  35.0    Male  user75@example.com    2021-05-21      NaN           HR\n",
      "76    Grace  35.0  Female  user76@example.com    2021-05-21  unknown    Marketing\n",
      "77   Hannah  25.0  Female  user77@example.com    22-06-2022      NaN  Engineering\n",
      "78      Ivy  40.0   Other  user78@example.com    2021-05-21    70000  Engineering\n",
      "79     Jack  30.0     NaN  user79@example.com  July 4, 2020    80000          NaN\n",
      "80    Alice  40.0    Male  user80@example.com           NaN    50000  Engineering\n",
      "81      Bob  30.0   Other  user81@example.com    2021-05-21  unknown          NaN\n",
      "82  Charlie  35.0     NaN  user82@example.com    2021-05-21  unknown        Admin\n",
      "83    David  35.0    Male  user83@example.com    22-06-2022    50000        Sales\n",
      "84      Eva  35.0    Male  user84@example.com           NaN      NaN    Marketing\n",
      "85    Frank  30.0    Male  user85@example.com    22-06-2022  unknown          NaN\n",
      "86    Grace  40.0    Male  user86@example.com  July 4, 2020      NaN        Sales\n",
      "87   Hannah  35.0    Male  user87@example.com           NaN    70000  Engineering\n",
      "88      Ivy  35.0     NaN  user88@example.com    22-06-2022    80000  Engineering\n",
      "89     Jack  35.0     NaN  user89@example.com    2021-05-21    50000        Sales\n",
      "90    Alice  30.0  Female                   -           NaN    80000  Engineering\n",
      "91      Bob  30.0  Female                   -           NaN      NaN        Admin\n",
      "92  Charlie  40.0    Male                   -    2021-05-21  unknown        Admin\n",
      "93    David  30.0    Male                   -    22-06-2022  unknown        Sales\n",
      "94      Eva  30.0     NaN                   -    2021-05-21      NaN          NaN\n",
      "95    Frank  35.0    Male                   -           NaN    50000          NaN\n",
      "96    Grace  40.0    Male                   -           NaN    70000        Sales\n",
      "97   Hannah  35.0    Male                   -    2020/01/01    60000          NaN\n",
      "98      Ivy  35.0  Female                   -    2020/01/01    50000          NaN\n",
      "99     Jack  35.0     NaN                   -  July 4, 2020    60000        Admin\n"
     ]
    }
   ],
   "source": [
    "print(ds.to_string())"
   ]
  },
  {
   "cell_type": "code",
   "execution_count": 40,
   "id": "65e8c8e7-fe3e-4ebd-8de7-f88c8c391e6c",
   "metadata": {},
   "outputs": [
    {
     "name": "stdout",
     "output_type": "stream",
     "text": [
      "<class 'pandas.core.frame.DataFrame'>\n",
      "Index: 100 entries, 0 to 99\n",
      "Data columns (total 7 columns):\n",
      " #   Column      Non-Null Count  Dtype  \n",
      "---  ------      --------------  -----  \n",
      " 0   Name        100 non-null    object \n",
      " 1   Age         100 non-null    float64\n",
      " 2   Gender      86 non-null     object \n",
      " 3   Email       100 non-null    object \n",
      " 4   Join_Date   66 non-null     object \n",
      " 5   Salary      74 non-null     object \n",
      " 6   Department  84 non-null     object \n",
      "dtypes: float64(1), object(6)\n",
      "memory usage: 6.2+ KB\n"
     ]
    }
   ],
   "source": [
    "ds.info()"
   ]
  },
  {
   "cell_type": "code",
   "execution_count": 42,
   "id": "f4f2868a-b503-4328-b92f-38efe48e664f",
   "metadata": {},
   "outputs": [],
   "source": [
    "#handling joint date to date time formate\n",
    "ds[\"Join_Date\"]=pd.to_datetime(ds[\"Join_Date\"],errors = 'coerce')\n"
   ]
  },
  {
   "cell_type": "code",
   "execution_count": 43,
   "id": "364f3712-91b5-4484-8290-52250d736e9c",
   "metadata": {},
   "outputs": [
    {
     "name": "stdout",
     "output_type": "stream",
     "text": [
      "<class 'pandas.core.frame.DataFrame'>\n",
      "Index: 100 entries, 0 to 99\n",
      "Data columns (total 7 columns):\n",
      " #   Column      Non-Null Count  Dtype         \n",
      "---  ------      --------------  -----         \n",
      " 0   Name        100 non-null    object        \n",
      " 1   Age         100 non-null    float64       \n",
      " 2   Gender      86 non-null     object        \n",
      " 3   Email       100 non-null    object        \n",
      " 4   Join_Date   24 non-null     datetime64[ns]\n",
      " 5   Salary      74 non-null     object        \n",
      " 6   Department  84 non-null     object        \n",
      "dtypes: datetime64[ns](1), float64(1), object(5)\n",
      "memory usage: 6.2+ KB\n"
     ]
    }
   ],
   "source": [
    "ds.info()"
   ]
  },
  {
   "cell_type": "code",
   "execution_count": 46,
   "id": "f481ae27-0518-4495-af6a-f0fce454553f",
   "metadata": {},
   "outputs": [],
   "source": [
    "#handling salary column to numeric datatypr instead of object\n",
    "ds[\"Salary\"]=pd.to_numeric(ds[\"Salary\"],errors = 'coerce')"
   ]
  },
  {
   "cell_type": "code",
   "execution_count": 45,
   "id": "6f637260-fbe6-4165-ba3a-79616eaf57cf",
   "metadata": {},
   "outputs": [
    {
     "name": "stdout",
     "output_type": "stream",
     "text": [
      "<class 'pandas.core.frame.DataFrame'>\n",
      "Index: 100 entries, 0 to 99\n",
      "Data columns (total 7 columns):\n",
      " #   Column      Non-Null Count  Dtype         \n",
      "---  ------      --------------  -----         \n",
      " 0   Name        100 non-null    object        \n",
      " 1   Age         100 non-null    float64       \n",
      " 2   Gender      86 non-null     object        \n",
      " 3   Email       100 non-null    object        \n",
      " 4   Join_Date   24 non-null     datetime64[ns]\n",
      " 5   Salary      60 non-null     float64       \n",
      " 6   Department  84 non-null     object        \n",
      "dtypes: datetime64[ns](1), float64(2), object(4)\n",
      "memory usage: 6.2+ KB\n"
     ]
    }
   ],
   "source": [
    "ds.info()"
   ]
  },
  {
   "cell_type": "code",
   "execution_count": 49,
   "id": "0763a69f-cab5-4e2e-be82-7d00ad44ebeb",
   "metadata": {},
   "outputs": [
    {
     "data": {
      "text/plain": [
       "array(['Admin', 'Engineering', 'HR', 'Sales', '-', 'Marketing'],\n",
       "      dtype=object)"
      ]
     },
     "execution_count": 49,
     "metadata": {},
     "output_type": "execute_result"
    }
   ],
   "source": [
    "ds[\"Department\"].unique()"
   ]
  },
  {
   "cell_type": "code",
   "execution_count": 53,
   "id": "778d0a45-9c80-4448-9097-678b66979b30",
   "metadata": {},
   "outputs": [],
   "source": [
    "#finding mode for filling at nan place\n",
    "x=ds[\"Department\"].mode()\n",
    "ds[\"Department\"].fillna(x,inplace=True)"
   ]
  },
  {
   "cell_type": "code",
   "execution_count": 56,
   "id": "44a4e367-3a2a-4568-b623-12ad3df3716b",
   "metadata": {
    "scrolled": true
   },
   "outputs": [
    {
     "data": {
      "text/plain": [
       "array(['Admin', 'Engineering', 'HR', 'Sales', '-', 'Marketing'],\n",
       "      dtype=object)"
      ]
     },
     "execution_count": 56,
     "metadata": {},
     "output_type": "execute_result"
    }
   ],
   "source": [
    "ds[\"Department\"].unique()"
   ]
  },
  {
   "cell_type": "code",
   "execution_count": 57,
   "id": "99b2d4e0-0fa2-49b2-8b75-b3a586c704b5",
   "metadata": {},
   "outputs": [
    {
     "name": "stdout",
     "output_type": "stream",
     "text": [
      "       Name   Age  Gender               Email  Join_Date   Salary   Department\n",
      "0     Alice  35.0     NaN   user0@example.com 2021-05-21      NaN        Admin\n",
      "1       Bob  40.0    Male   user1@example.com        NaT  50000.0  Engineering\n",
      "2   Charlie  35.0    Male   user2@example.com        NaT  50000.0           HR\n",
      "3     David  35.0     NaN   user3@example.com 2021-05-21  70000.0        Admin\n",
      "4       Eva  35.0   Other   user4@example.com        NaT  70000.0  Engineering\n",
      "5     Frank  35.0   Other   user5@example.com        NaT  70000.0        Admin\n",
      "6     Grace  35.0  Female   user6@example.com        NaT  80000.0  Engineering\n",
      "7    Hannah  35.0   Other   user7@example.com 2021-05-21      NaN           HR\n",
      "8       Ivy  30.0  Female   user8@example.com        NaT  50000.0  Engineering\n",
      "9      Jack  35.0    Male   user9@example.com        NaT  80000.0  Engineering\n",
      "10    Alice  35.0    Male  user10@example.com 2021-05-21  70000.0  Engineering\n",
      "11      Bob  35.0    Male  user11@example.com        NaT  50000.0        Sales\n",
      "12  Charlie  35.0    Male  user12@example.com        NaT  80000.0        Sales\n",
      "13    David  35.0   Other  user13@example.com        NaT      NaN        Sales\n",
      "14      Eva  40.0    Male  user14@example.com        NaT  80000.0           HR\n",
      "15    Frank  35.0   Other  user15@example.com        NaT      NaN        Admin\n",
      "16    Grace  35.0   Other  user16@example.com 2021-05-21  70000.0            -\n",
      "17   Hannah  35.0    Male  user17@example.com        NaT      NaN  Engineering\n",
      "18      Ivy  30.0    Male  user18@example.com 2021-05-21  50000.0  Engineering\n",
      "19     Jack  40.0    Male  user19@example.com        NaT  70000.0           HR\n",
      "20    Alice  35.0    Male  user20@example.com 2021-05-21  50000.0  Engineering\n",
      "21      Bob  35.0    Male  user21@example.com        NaT      NaN        Sales\n",
      "22  Charlie  30.0  Female  user22@example.com        NaT  60000.0            -\n",
      "23    David  40.0  Female  user23@example.com        NaT      NaN    Marketing\n",
      "24      Eva  35.0    Male  user24@example.com        NaT  60000.0  Engineering\n",
      "25    Frank  25.0  Female  user25@example.com        NaT  60000.0        Sales\n",
      "26    Grace  40.0  Female  user26@example.com        NaT      NaN    Marketing\n",
      "27   Hannah  30.0    Male  user27@example.com 2021-05-21  70000.0            -\n",
      "28      Ivy  35.0  Female  user28@example.com        NaT      NaN    Marketing\n",
      "29     Jack  35.0   Other  user29@example.com 2021-05-21  50000.0        Sales\n",
      "30    Alice  40.0  Female  user30@example.com 2021-05-21  80000.0        Admin\n",
      "31      Bob  25.0  Female  user31@example.com        NaT  50000.0        Admin\n",
      "32  Charlie  25.0    Male  user32@example.com 2021-05-21  80000.0    Marketing\n",
      "33    David  35.0    Male  user33@example.com        NaT  50000.0           HR\n",
      "34      Eva  35.0    Male  user34@example.com        NaT      NaN    Marketing\n",
      "35    Frank  35.0    Male  user35@example.com        NaT      NaN  Engineering\n",
      "36    Grace  30.0  Female  user36@example.com        NaT  80000.0  Engineering\n",
      "37   Hannah  40.0    Male  user37@example.com        NaT      NaN        Admin\n",
      "38      Ivy  40.0     NaN  user38@example.com 2021-05-21  70000.0           HR\n",
      "39     Jack  35.0   Other  user39@example.com 2021-05-21  50000.0        Sales\n",
      "40    Alice  35.0  Female  user40@example.com        NaT  50000.0  Engineering\n",
      "41      Bob  35.0    Male  user41@example.com        NaT  80000.0        Admin\n",
      "42  Charlie  35.0     NaN  user42@example.com        NaT  70000.0            -\n",
      "43    David  35.0  Female  user43@example.com        NaT  70000.0        Admin\n",
      "44      Eva  35.0  Female  user44@example.com        NaT      NaN  Engineering\n",
      "45    Frank  40.0    Male  user45@example.com        NaT      NaN  Engineering\n",
      "46    Grace  35.0  Female  user46@example.com        NaT      NaN        Admin\n",
      "47   Hannah  40.0   Other  user47@example.com        NaT      NaN        Sales\n",
      "48      Ivy  25.0     NaN  user48@example.com        NaT      NaN    Marketing\n",
      "49     Jack  35.0  Female  user49@example.com        NaT      NaN  Engineering\n",
      "50    Alice  35.0    Male  user50@example.com 2021-05-21      NaN        Admin\n",
      "51      Bob  35.0   Other  user51@example.com        NaT      NaN        Admin\n",
      "52  Charlie  35.0  Female  user52@example.com        NaT  70000.0           HR\n",
      "53    David  35.0     NaN  user53@example.com        NaT      NaN    Marketing\n",
      "54      Eva  25.0  Female  user54@example.com        NaT  70000.0            -\n",
      "55    Frank  35.0    Male  user55@example.com        NaT  70000.0        Sales\n",
      "56    Grace  30.0  Female  user56@example.com        NaT  60000.0            -\n",
      "57   Hannah  40.0  Female  user57@example.com        NaT      NaN    Marketing\n",
      "58      Ivy  25.0    Male  user58@example.com 2021-05-21      NaN    Marketing\n",
      "59     Jack  40.0   Other  user59@example.com 2021-05-21  50000.0    Marketing\n",
      "60    Alice  35.0  Female  user60@example.com        NaT  80000.0            -\n",
      "61      Bob  30.0    Male  user61@example.com        NaT      NaN    Marketing\n",
      "62  Charlie  30.0    Male  user62@example.com        NaT  50000.0        Admin\n",
      "63    David  25.0   Other  user63@example.com        NaT      NaN            -\n",
      "64      Eva  30.0    Male  user64@example.com        NaT  80000.0    Marketing\n",
      "65    Frank  35.0     NaN  user65@example.com        NaT      NaN        Admin\n",
      "66    Grace  30.0   Other  user66@example.com        NaT  70000.0           HR\n",
      "67   Hannah  40.0   Other  user67@example.com        NaT  80000.0    Marketing\n",
      "68      Ivy  40.0  Female  user68@example.com        NaT  70000.0            -\n",
      "69     Jack  35.0   Other  user69@example.com        NaT  50000.0  Engineering\n",
      "70    Alice  40.0    Male  user70@example.com        NaT  50000.0    Marketing\n",
      "71      Bob  35.0   Other  user71@example.com        NaT  80000.0  Engineering\n",
      "72  Charlie  40.0  Female  user72@example.com        NaT  80000.0        Admin\n",
      "73    David  35.0  Female  user73@example.com        NaT      NaN           HR\n",
      "74      Eva  35.0     NaN  user74@example.com        NaT      NaN        Sales\n",
      "75    Frank  35.0    Male  user75@example.com 2021-05-21      NaN           HR\n",
      "76    Grace  35.0  Female  user76@example.com 2021-05-21      NaN    Marketing\n",
      "77   Hannah  25.0  Female  user77@example.com        NaT      NaN  Engineering\n",
      "78      Ivy  40.0   Other  user78@example.com 2021-05-21  70000.0  Engineering\n",
      "79     Jack  30.0     NaN  user79@example.com        NaT  80000.0            -\n",
      "80    Alice  40.0    Male  user80@example.com        NaT  50000.0  Engineering\n",
      "81      Bob  30.0   Other  user81@example.com 2021-05-21      NaN            -\n",
      "82  Charlie  35.0     NaN  user82@example.com 2021-05-21      NaN        Admin\n",
      "83    David  35.0    Male  user83@example.com        NaT  50000.0        Sales\n",
      "84      Eva  35.0    Male  user84@example.com        NaT      NaN    Marketing\n",
      "85    Frank  30.0    Male  user85@example.com        NaT      NaN            -\n",
      "86    Grace  40.0    Male  user86@example.com        NaT      NaN        Sales\n",
      "87   Hannah  35.0    Male  user87@example.com        NaT  70000.0  Engineering\n",
      "88      Ivy  35.0     NaN  user88@example.com        NaT  80000.0  Engineering\n",
      "89     Jack  35.0     NaN  user89@example.com 2021-05-21  50000.0        Sales\n",
      "90    Alice  30.0  Female                   -        NaT  80000.0  Engineering\n",
      "91      Bob  30.0  Female                   -        NaT      NaN        Admin\n",
      "92  Charlie  40.0    Male                   - 2021-05-21      NaN        Admin\n",
      "93    David  30.0    Male                   -        NaT      NaN        Sales\n",
      "94      Eva  30.0     NaN                   - 2021-05-21      NaN            -\n",
      "95    Frank  35.0    Male                   -        NaT  50000.0            -\n",
      "96    Grace  40.0    Male                   -        NaT  70000.0        Sales\n",
      "97   Hannah  35.0    Male                   -        NaT  60000.0            -\n",
      "98      Ivy  35.0  Female                   -        NaT  50000.0            -\n",
      "99     Jack  35.0     NaN                   -        NaT  60000.0        Admin\n"
     ]
    }
   ],
   "source": [
    "print(ds.to_string())"
   ]
  },
  {
   "cell_type": "code",
   "execution_count": 59,
   "id": "93e96726-4f0f-4637-aa3b-b2262580f408",
   "metadata": {},
   "outputs": [],
   "source": [
    "#to save data file\n",
    "ds.to_csv(\"CleanedData.csv\")"
   ]
  },
  {
   "cell_type": "code",
   "execution_count": null,
   "id": "28fcc8e9-13c9-42e0-9ca4-879ed0aaf824",
   "metadata": {},
   "outputs": [],
   "source": []
  }
 ],
 "metadata": {
  "kernelspec": {
   "display_name": "Python [conda env:base] *",
   "language": "python",
   "name": "conda-base-py"
  },
  "language_info": {
   "codemirror_mode": {
    "name": "ipython",
    "version": 3
   },
   "file_extension": ".py",
   "mimetype": "text/x-python",
   "name": "python",
   "nbconvert_exporter": "python",
   "pygments_lexer": "ipython3",
   "version": "3.12.7"
  }
 },
 "nbformat": 4,
 "nbformat_minor": 5
}
